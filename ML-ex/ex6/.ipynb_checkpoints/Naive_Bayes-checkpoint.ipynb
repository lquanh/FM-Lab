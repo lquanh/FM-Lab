{
 "cells": [
  {
   "cell_type": "code",
   "execution_count": 21,
   "id": "5b9eb089-5a6b-48a6-83f6-109bc6b019c1",
   "metadata": {},
   "outputs": [],
   "source": [
    "import numpy as np\n",
    "import matplotlib.pyplot as plt\n",
    "import sklearn.naive_bayes as naive_bayes\n",
    "from pyvi import ViTokenizer\n",
    "from sklearn.datasets import load_files\n",
    "from sklearn.feature_extraction.text import CountVectorizer, TfidfVectorizer, TfidfTransformer\n",
    "from sklearn.model_selection import train_test_split, GridSearchCV, ShuffleSplit, learning_curve\n",
    "from sklearn.pipeline import Pipeline\n",
    "%matplotlib inline"
   ]
  },
  {
   "cell_type": "code",
   "execution_count": 14,
   "id": "6f447480-9357-4ecd-a0d4-75ee27e5ae8d",
   "metadata": {},
   "outputs": [
    {
     "name": "stdout",
     "output_type": "stream",
     "text": [
      "['data/news_1135/Thể thao\\\\2e62de81ade8318f66cc740f5ede5607ea1bf002.txt'\n",
      " 'data/news_1135/Thể thao\\\\f9bd156031140a7db52ae51de4561f234a0eb277.txt'\n",
      " 'data/news_1135/Thể thao\\\\aeeb3b3b0dfc936de928f0b004259aca70aa4efa.txt']\n",
      "Tong so file: 224\n",
      "Danh sách 10 nhãn và id tương ứng:  [(0, 'Giải trí'), (1, 'Khoa học - Công nghệ'), (2, 'Kinh tế'), (3, 'Pháp luật'), (4, 'Sức khỏe'), (5, 'Thể thao'), (6, 'Thời sự')]\n"
     ]
    }
   ],
   "source": [
    "data_train = load_files(container_path = \"data/news_1135/\", encoding = \"utf-8\")\n",
    "\n",
    "print(data_train.filenames[0:3])\n",
    "print(\"Tong so file: {}\" .format( len(data_train.filenames)))\n",
    "print(\"Danh sách 10 nhãn và id tương ứng: \", [(idx, name) for idx, name in enumerate(data_train.target_names[0:10])])\n"
   ]
  },
  {
   "cell_type": "code",
   "execution_count": 15,
   "id": "62cc55e8-316b-482e-9056-7de063fa3e57",
   "metadata": {},
   "outputs": [
    {
     "name": "stdout",
     "output_type": "stream",
     "text": [
      "Dân_trí Sáng 5/12 , giải quần_vợt các tay_vợt xuất_sắc Việt_Nam - Cúp Vietravel 2016 đã chính_thức khai_mạc tại TP Vinh - Nghệ_An . Tham_dự giải hơn 30 tay_vợt xuất_sắc nhất của Liên_đoàn quần_vợt Việt_Nam . Dự lễ khai_mạc có ông Nguyễn Trọng Hổ - Vụ_trưởng Vụ thể_thao thành_tích cao II ; Đoàn Quốc Cường - Trưởng bộ_môn quần_vợt Liên_đoàn quần_vợt Việt_Nam ; Nguyễn Quốc Kỳ - Tổng_Giám_đốc Viettravel , Phó_Chủ_tịch kiêm Tổng_thư_ký Liên_đoàn quần_vợt Việt_Nam cùng lãnh_đạo tỉnh Nghệ_An . Giải quần_vợt các cây_vợt xuất_sắc Việt_Nam - Cup Vietravel 2016 do Liên_đoàn Quần_vợt Việt_Nam VTF phối_hợp với Sở VH - TT - DL và Liên_đoàn quần_vợt Nghệ_An NTF tổ_chức ; là giải đấu chuyên_nghiệp quốc_gia lần đầu_tiên được tổ_chức tại Nghệ_An . Ông Nguyễn Quốc Kỳ - PCT kiêm TTK Liên_đoàn quần_vợt Việt_Nam Tham_gia giải lần này có 22 VĐV nam , 9 VĐV nữ có điểm xếp_hạng cao nhất của bộ_môn quần_vợt chuyên_nghiệp , đến từ các trung_tâm quần_vợt lớn trong cả nước như : Thành_phố Hồ Chí Minh ; Bình_Dương ; Hà_Nội , Đà_Nẵng ... Trong đó , những tên_tuổi lớn của làng quần_vợt chuyên_nghiệp Việt_Nam như : Lý Hoàng Nam ; Phạm Minh Tuấn ; Hoàng Thành_Trung ; Trịnh Linh Giang ; Trần Thị Tâm Hảo ; Nguyễn Thị Bé Xuyên ... Các VĐV thi_đấu ở 4 nội_dung gồm : Đơn_nam ; đôi_nam ; đơn_nữ và đôi_nữ theo thể_thức đấu_loại trực_tiếp . Giải đấu là dịp để khích_lệ phong_trào tập_luyện môn Tennis trên địa_bàn tỉnh , là cơ_sở để Nghệ_An hướng đến tổ_chức những giải đấu lớn của quần_vợt chuyên_nghiệp Việt_Nam trong thời_gian tới ; góp_phần quảng_bá hình_ảnh quê_hương Nghệ_An đến với khán_giả cả nước . Phát_biểu tại lễ khai_mạc , ông Huỳnh Thanh_Điền - Phó_Chủ_tịch UBND tỉnh Nghệ_An khẳng_định : Giải quần_vợt các cây_vợt xuất_sắc Việt_Nam Cúp Vietravel 2016 lần đầu_tiên được tổ_chức tại Nghệ_An là bước_tiến mới của phong_trào phát_triển môn quần_vợt tại tỉnh Nghệ_An . Đây là dịp để góp_phần quảng_bá hình_ảnh quê_hương Chủ_tịch Hồ Chí Minh đến với khán_giả cả nước . Giải đấu cũng là cơ_hội rất tốt để Liên_đoàn quần_vợt Nghệ_An ( NTF ) nâng_cao vị_thế của mình trong làng quần_vợt cả nước . Giải Quần_vợt các cây_vợt xuất_sắc Việt_Nam Cúp Vietravel 2016 khởi tranh vòng đấu bảng vào ngày 5-10 / 12 tại sân CLB Trường_Sơn , TP Vinh . Tổng_giá_trị tiền_thưởng lên tới trên 300 triệu đồng . Dịp này , Ban tổ_chức giải đã trao 10 triệu đồng ủng_hộ Trung_tâm bảo_trợ xã_hội tỉnh Nghệ_An . Nguyễn Duy\n"
     ]
    }
   ],
   "source": [
    "print(data_train.data[0])"
   ]
  },
  {
   "cell_type": "code",
   "execution_count": 16,
   "id": "d7674266-3a36-4de6-b2f6-45d3f1aedeb2",
   "metadata": {},
   "outputs": [
    {
     "name": "stdout",
     "output_type": "stream",
     "text": [
      "5\n"
     ]
    }
   ],
   "source": [
    "print(data_train.target[0])"
   ]
  },
  {
   "cell_type": "code",
   "execution_count": 18,
   "id": "81b1eab3-2435-4a54-bef0-b4c8e3f238dc",
   "metadata": {},
   "outputs": [
    {
     "name": "stdout",
     "output_type": "stream",
     "text": [
      "['a_lô', 'a_ha', 'ai', 'ai_ai', 'ai_nấy', 'ai_đó', 'alô', 'amen', 'anh', 'anh_ấy']\n"
     ]
    }
   ],
   "source": [
    "with open(\"data/vietnamese-stopwords.txt\", encoding = \"utf-8\") as f:\n",
    "    stopwords = f.readlines()\n",
    "stopwords = [x.strip().replace(\" \", \"_\") for x in stopwords]\n",
    "print(stopwords[:10])"
   ]
  },
  {
   "cell_type": "code",
   "execution_count": 23,
   "id": "b0be2eff-14c3-47a4-ae19-46a54e3a52f7",
   "metadata": {},
   "outputs": [],
   "source": [
    "module_count_vector = CountVectorizer(stop_words = stopwords)\n",
    "model_rf_preprocess = Pipeline([('vect', module_count_vector), ('tfidf', TfidfTransformer())])"
   ]
  },
  {
   "cell_type": "code",
   "execution_count": 30,
   "id": "f5dab28a-1c0f-42dd-bbf5-4902cdcad3a5",
   "metadata": {},
   "outputs": [],
   "source": [
    "data_bow = module_count_vector.fit_transform(data_train.data, data_train.target)\n",
    "data_tfidf = model_rf_preprocess.fit_transform(data_train.data, data_train.target)"
   ]
  },
  {
   "cell_type": "code",
   "execution_count": 33,
   "id": "fe0c4c98-57f3-43b2-8261-e3b57dba307e",
   "metadata": {},
   "outputs": [],
   "source": [
    "X_train_bow, X_test_bow, y_train_bow, y_test_bow = train_test_split(data_bow, data_train.target, test_size = 0.2, random_state = 12)\n",
    "X_train_tfidf, X_test_tfidf, y_train_tfidf, y_test_tfidf = train_test_split(data_tfidf, data_train.target, test_size = 0.2, random_state = 12)"
   ]
  },
  {
   "cell_type": "code",
   "execution_count": 38,
   "id": "c6cc8fd6-ef84-45c0-8eca-6041d69ef6ab",
   "metadata": {},
   "outputs": [
    {
     "name": "stdout",
     "output_type": "stream",
     "text": [
      "(179, 7972) (179,)\n",
      "(45, 7972) (45,)\n"
     ]
    }
   ],
   "source": [
    "print(X_train_bow.shape, y_train_bow.shape)\n",
    "print(X_test_bow.shape, y_test_bow.shape)"
   ]
  },
  {
   "cell_type": "code",
   "execution_count": 62,
   "id": "156bbca6-f3a8-4786-809a-9f360c122fe5",
   "metadata": {},
   "outputs": [
    {
     "name": "stdout",
     "output_type": "stream",
     "text": [
      "[5 5 5 5 5] ['Giải trí', 'Khoa học - Công nghệ', 'Kinh tế', 'Pháp luật', 'Sức khỏe']\n"
     ]
    }
   ],
   "source": [
    "print(data_train.target[:5], data_train.target_names[:5])"
   ]
  },
  {
   "cell_type": "code",
   "execution_count": null,
   "id": "6b897485-dbe0-4844-8e72-67248cf21053",
   "metadata": {},
   "outputs": [],
   "source": []
  }
 ],
 "metadata": {
  "kernelspec": {
   "display_name": "Python 3 (ipykernel)",
   "language": "python",
   "name": "python3"
  },
  "language_info": {
   "codemirror_mode": {
    "name": "ipython",
    "version": 3
   },
   "file_extension": ".py",
   "mimetype": "text/x-python",
   "name": "python",
   "nbconvert_exporter": "python",
   "pygments_lexer": "ipython3",
   "version": "3.13.5"
  }
 },
 "nbformat": 4,
 "nbformat_minor": 5
}
