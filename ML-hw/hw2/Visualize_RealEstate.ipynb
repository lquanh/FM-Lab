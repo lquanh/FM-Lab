{
 "cells": [
  {
   "cell_type": "code",
   "execution_count": null,
   "id": "b27781af-3962-4952-9527-e3aaf57f5f5e",
   "metadata": {},
   "outputs": [],
   "source": [
    "print(1)"
   ]
  }
 ],
 "metadata": {
  "kernelspec": {
   "display_name": "Python 3",
   "language": "python",
   "name": "python3"
  },
  "language_info": {
   "name": "python",
   "version": "3.11.13"
  }
 },
 "nbformat": 4,
 "nbformat_minor": 5
}
