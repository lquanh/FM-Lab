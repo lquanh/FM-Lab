{
 "cells": [
  {
   "cell_type": "code",
   "execution_count": 3,
   "id": "f6ec675a-6c6a-4480-b7f3-d9642cd0a630",
   "metadata": {},
   "outputs": [],
   "source": [
    "import os\n",
    "import matplotlib.pyplot as plt\n",
    "import numpy as np\n",
    "from sklearn.datasets import load_files\n",
    "from pyvi import ViTokenizer\n",
    "from sklearn.feature_extraction.text import CountVectorizer\n",
    "from sklearn.feature_extraction.text import TfidfTransformer\n",
    "from sklearn.pipeline import Pipeline\n",
    "%matplotlib inline"
   ]
  },
  {
   "cell_type": "code",
   "execution_count": 4,
   "id": "b78f38ca-2a91-47c8-9c54-80866745a92c",
   "metadata": {},
   "outputs": [],
   "source": [
    "INPUT = 'data/news_vnexpress'\n",
    "os.makedirs(\"images\",exist_ok=True)"
   ]
  },
  {
   "cell_type": "code",
   "execution_count": 9,
   "id": "a5d9b0b4-b96d-410d-a30c-f1a08fa30070",
   "metadata": {},
   "outputs": [
    {
     "name": "stdout",
     "output_type": "stream",
     "text": [
      "Các nhãn và số văn bản tương ứng trong dữ liệu\n",
      "----------------------------------------------\n",
      "doi-song: 120\n",
      "du-lich: 54\n",
      "giai-tri: 201\n",
      "giao-duc: 105\n",
      "khoa-hoc: 144\n",
      "kinh-doanh: 262\n",
      "phap-luat: 59\n",
      "suc-khoe: 162\n",
      "the-thao: 173\n",
      "thoi-su: 59\n",
      "-------------------------\n",
      "Tổng số văn bản: 1339\n"
     ]
    }
   ],
   "source": [
    "print('Các nhãn và số văn bản tương ứng trong dữ liệu')\n",
    "print('----------------------------------------------')\n",
    "n = 0\n",
    "for label in os.listdir(INPUT):\n",
    "    print(f'{label}: {len(os.listdir(os.path.join(INPUT, label)))}')\n",
    "    n += len(os.listdir(os.path.join(INPUT, label)))\n",
    "print('-------------------------')\n",
    "print(f\"Tổng số văn bản: {n}\")"
   ]
  },
  {
   "cell_type": "code",
   "execution_count": 15,
   "id": "c632359e-790e-469f-b922-a566bb19ad40",
   "metadata": {},
   "outputs": [
    {
     "name": "stdout",
     "output_type": "stream",
     "text": [
      "mapping:\n",
      "doi-song- 0\n",
      "du-lich- 1\n",
      "giai-tri- 2\n",
      "giao-duc- 3\n",
      "khoa-hoc- 4\n",
      "kinh-doanh- 5\n",
      "phap-luat- 6\n",
      "suc-khoe- 7\n",
      "the-thao- 8\n",
      "thoi-su- 9\n",
      "--------------------------\n",
      "['data/news_vnexpress\\\\khoa-hoc\\\\00133.txt']\n",
      "[4]\n",
      "['Mời độc giả đặt câu hỏi tại đây\\n']\n",
      "\n",
      "Tổng số văn bản: 1339\n"
     ]
    }
   ],
   "source": [
    "data_train = load_files(container_path=INPUT, encoding=\"utf-8\")\n",
    "print('mapping:')\n",
    "for i in range(len(data_train.target_names)):\n",
    "     print(f'{data_train.target_names[i]}- {i}')\n",
    "print('--------------------------')\n",
    "print(data_train.filenames[0:1])\n",
    "# print(data_train.data[0:1])\n",
    "print(data_train.target[0:1])\n",
    "print(data_train.data[0:1])\n",
    "print(\"\\nTổng số văn bản: {}\" .format( len(data_train.filenames)))"
   ]
  },
  {
   "cell_type": "code",
   "execution_count": 28,
   "id": "1207f7d6-0347-4b34-8220-7cc967106517",
   "metadata": {},
   "outputs": [
    {
     "name": "stdout",
     "output_type": "stream",
     "text": [
      "1942\n"
     ]
    }
   ],
   "source": [
    "STOPWINPUT = 'data/vietnamese-stopwords-dash.txt'\n",
    "with open(STOPWINPUT, encoding='utf-8') as f:\n",
    "    stop_w = f.read().splitlines()\n",
    "print(len(stop_w))"
   ]
  },
  {
   "cell_type": "code",
   "execution_count": 35,
   "id": "83268134-33a6-48af-9e22-b4d49946415f",
   "metadata": {},
   "outputs": [
    {
     "name": "stdout",
     "output_type": "stream",
     "text": [
      "(1339, 12797)\n",
      "['00' '000' '0000868' '0001' '00010' '00021' '000325' '00042' '000430'\n",
      " '000540' '0006868' '000700' '000810' '000865' '0008868' '0009' '000975'\n",
      " '000mah' '000usd' '000đ']\n"
     ]
    }
   ],
   "source": [
    "count_vectorizer = CountVectorizer(stop_words = stop_w)\n",
    "\n",
    "X = count_vectorizer.fit_transform(data_train.data)\n",
    "\n",
    "print(X.shape)\n",
    "print(count_vectorizer.get_feature_names_out()[:20])"
   ]
  },
  {
   "cell_type": "code",
   "execution_count": 43,
   "id": "d5de3a01-6f0b-4beb-b14e-d83aa9f41213",
   "metadata": {},
   "outputs": [],
   "source": [
    "tf_transformer = TfidfTransformer(use_idf = False).fit(X)\n",
    "X_tf = tf_transformer.transform(X)"
   ]
  },
  {
   "cell_type": "code",
   "execution_count": null,
   "id": "8d568b38-d8e3-4c3d-80d3-aae20beeeae4",
   "metadata": {},
   "outputs": [],
   "source": []
  }
 ],
 "metadata": {
  "kernelspec": {
   "display_name": "Python 3 (ipykernel)",
   "language": "python",
   "name": "python3"
  },
  "language_info": {
   "codemirror_mode": {
    "name": "ipython",
    "version": 3
   },
   "file_extension": ".py",
   "mimetype": "text/x-python",
   "name": "python",
   "nbconvert_exporter": "python",
   "pygments_lexer": "ipython3",
   "version": "3.13.5"
  }
 },
 "nbformat": 4,
 "nbformat_minor": 5
}
