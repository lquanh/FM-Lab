{
 "cells": [
  {
   "cell_type": "code",
   "execution_count": 4,
   "id": "f6ec675a-6c6a-4480-b7f3-d9642cd0a630",
   "metadata": {},
   "outputs": [],
   "source": [
    "import os\n",
    "import matplotlib.pyplot as plt\n",
    "import numpy as np\n",
    "from sklearn.datasets import load_files\n",
    "from pyvi import ViTokenizer\n",
    "from sklearn.feature_extraction.text import CountVectorizer\n",
    "from sklearn.feature_extraction.text import TfidfTransformer\n",
    "from sklearn.pipeline import Pipeline\n",
    "%matplotlib inline"
   ]
  },
  {
   "cell_type": "code",
   "execution_count": 5,
   "id": "b78f38ca-2a91-47c8-9c54-80866745a92c",
   "metadata": {},
   "outputs": [],
   "source": [
    "INPUT = 'data/news_vnexpress'\n",
    "os.makedirs(\"images\",exist_ok=True)"
   ]
  },
  {
   "cell_type": "code",
   "execution_count": 6,
   "id": "a5d9b0b4-b96d-410d-a30c-f1a08fa30070",
   "metadata": {},
   "outputs": [
    {
     "name": "stdout",
     "output_type": "stream",
     "text": [
      "Các nhãn và số văn bản tương ứng trong dữ liệu\n",
      "----------------------------------------------\n",
      "doi-song: 120\n",
      "du-lich: 54\n",
      "giai-tri: 201\n",
      "giao-duc: 105\n",
      "khoa-hoc: 144\n",
      "kinh-doanh: 262\n",
      "phap-luat: 59\n",
      "suc-khoe: 162\n",
      "the-thao: 173\n",
      "thoi-su: 59\n",
      "-------------------------\n",
      "Tổng số văn bản: 1339\n"
     ]
    }
   ],
   "source": [
    "print('Các nhãn và số văn bản tương ứng trong dữ liệu')\n",
    "print('----------------------------------------------')\n",
    "n = 0\n",
    "for label in os.listdir(INPUT):\n",
    "    print(f'{label}: {len(os.listdir(os.path.join(INPUT, label)))}')\n",
    "    n += len(os.listdir(os.path.join(INPUT, label)))\n",
    "print('-------------------------')\n",
    "print(f\"Tổng số văn bản: {n}\")"
   ]
  },
  {
   "cell_type": "code",
   "execution_count": 7,
   "id": "c632359e-790e-469f-b922-a566bb19ad40",
   "metadata": {},
   "outputs": [
    {
     "name": "stdout",
     "output_type": "stream",
     "text": [
      "mapping:\n",
      "doi-song- 0\n",
      "du-lich- 1\n",
      "giai-tri- 2\n",
      "giao-duc- 3\n",
      "khoa-hoc- 4\n",
      "kinh-doanh- 5\n",
      "phap-luat- 6\n",
      "suc-khoe- 7\n",
      "the-thao- 8\n",
      "thoi-su- 9\n",
      "--------------------------\n",
      "['data/news_vnexpress\\\\khoa-hoc\\\\00133.txt']\n",
      "[4]\n",
      "['Mời độc giả đặt câu hỏi tại đây\\n']\n",
      "\n",
      "Tổng số văn bản: 1339\n"
     ]
    }
   ],
   "source": [
    "data_train = load_files(container_path=INPUT, encoding=\"utf-8\")\n",
    "print('mapping:')\n",
    "for i in range(len(data_train.target_names)):\n",
    "     print(f'{data_train.target_names[i]}- {i}')\n",
    "print('--------------------------')\n",
    "print(data_train.filenames[0:1])\n",
    "# print(data_train.data[0:1])\n",
    "print(data_train.target[0:1])\n",
    "print(data_train.data[0:1])\n",
    "print(\"\\nTổng số văn bản: {}\" .format( len(data_train.filenames)))"
   ]
  },
  {
   "cell_type": "code",
   "execution_count": 8,
   "id": "1207f7d6-0347-4b34-8220-7cc967106517",
   "metadata": {},
   "outputs": [
    {
     "name": "stdout",
     "output_type": "stream",
     "text": [
      "1942\n"
     ]
    }
   ],
   "source": [
    "STOPWINPUT = 'data/vietnamese-stopwords-dash.txt'\n",
    "with open(STOPWINPUT, encoding='utf-8') as f:\n",
    "    stop_w = f.read().splitlines()\n",
    "print(len(stop_w))"
   ]
  },
  {
   "cell_type": "code",
   "execution_count": 16,
   "id": "83268134-33a6-48af-9e22-b4d49946415f",
   "metadata": {},
   "outputs": [],
   "source": [
    "model = Pipeline([\n",
    "    ('vect', CountVectorizer(stop_words=None)),\n",
    "    ('tfidf', TfidfTransformer())\n",
    "    # tạo từ điển và loại bỏ stop words\n",
    "])\n",
    "model.set_params(vect__stop_words = stop_w)\n",
    "data_ok = model.fit_transform(data_train.data, data_train.target)\n",
    "X = data_ok\n",
    "Y = data_train.target"
   ]
  },
  {
   "cell_type": "code",
   "execution_count": 20,
   "id": "aeabb7fe-722e-40d1-8a47-b9f8ecd2c0fa",
   "metadata": {},
   "outputs": [
    {
     "name": "stdout",
     "output_type": "stream",
     "text": [
      "(1339, 12797)\n",
      "(1339,)\n"
     ]
    }
   ],
   "source": [
    "print(X.shape)\n",
    "print(Y.shape)"
   ]
  },
  {
   "cell_type": "code",
   "execution_count": 21,
   "id": "415f91c0-2c3c-40d3-a4d4-8503c512abfe",
   "metadata": {},
   "outputs": [
    {
     "name": "stdout",
     "output_type": "stream",
     "text": [
      "[[0.         0.         0.         ... 0.         0.14048828 0.        ]]\n",
      "5\n"
     ]
    }
   ],
   "source": [
    "print(X[100].toarray())\n",
    "print(Y[100])"
   ]
  },
  {
   "cell_type": "code",
   "execution_count": 23,
   "id": "ec90b2df-2159-4011-95d7-c2ef935fea29",
   "metadata": {},
   "outputs": [
    {
     "data": {
      "text/plain": [
       "np.int64(12508)"
      ]
     },
     "execution_count": 23,
     "metadata": {},
     "output_type": "execute_result"
    }
   ],
   "source": [
    "sum(sum(X[100].toarray() != 0))\n",
    "# trong văn bản thứ 100, kiểm tra tần số xuất hiện các từ trong từ điển"
   ]
  },
  {
   "cell_type": "code",
   "execution_count": null,
   "id": "154f312e-2fa4-4ce5-85b7-650b0f62a477",
   "metadata": {},
   "outputs": [],
   "source": []
  }
 ],
 "metadata": {
  "kernelspec": {
   "display_name": "Python 3 (ipykernel)",
   "language": "python",
   "name": "python3"
  },
  "language_info": {
   "codemirror_mode": {
    "name": "ipython",
    "version": 3
   },
   "file_extension": ".py",
   "mimetype": "text/x-python",
   "name": "python",
   "nbconvert_exporter": "python",
   "pygments_lexer": "ipython3",
   "version": "3.13.5"
  }
 },
 "nbformat": 4,
 "nbformat_minor": 5
}
