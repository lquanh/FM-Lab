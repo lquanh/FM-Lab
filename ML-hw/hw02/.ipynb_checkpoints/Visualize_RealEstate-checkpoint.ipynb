{
 "cells": [
  {
   "cell_type": "code",
   "execution_count": 1,
   "id": "b27781af-3962-4952-9527-e3aaf57f5f5e",
   "metadata": {},
   "outputs": [],
   "source": [
    "import numpy as np\n",
    "import pandas as pd\n",
    "import matplotlib as mpl\n",
    "import matplotlib.pyplot as plt\n",
    "import seaborn as sns\n",
    "import warnings; warnings.filterwarnings(action='once')\n",
    "import random\n",
    "import math"
   ]
  },
  {
   "cell_type": "code",
   "execution_count": 2,
   "id": "9fdc6c89-87ce-46b5-b71c-15bef428a376",
   "metadata": {},
   "outputs": [],
   "source": [
    "data = pd.read_csv(\"batdongsan.com.vn.csv\", dtype = {\"month\": \"string\", \"id\": \"string\"})"
   ]
  },
  {
   "cell_type": "code",
   "execution_count": 3,
   "id": "107225a0-3e4f-4adb-a2dd-ba4402c16eb1",
   "metadata": {},
   "outputs": [
    {
     "data": {
      "text/plain": [
       "Index(['id', 'month', 'project', 'investor', 'square', 'bedrooms', 'bathrooms',\n",
       "       'direction', 'balcony', 'district', 'ward', 'price'],\n",
       "      dtype='object')"
      ]
     },
     "execution_count": 3,
     "metadata": {},
     "output_type": "execute_result"
    }
   ],
   "source": [
    "data.columns"
   ]
  },
  {
   "cell_type": "code",
   "execution_count": 4,
   "id": "fecf0b5c-2290-4afd-a3c2-aef5b19ec801",
   "metadata": {},
   "outputs": [
    {
     "data": {
      "text/html": [
       "<div>\n",
       "<style scoped>\n",
       "    .dataframe tbody tr th:only-of-type {\n",
       "        vertical-align: middle;\n",
       "    }\n",
       "\n",
       "    .dataframe tbody tr th {\n",
       "        vertical-align: top;\n",
       "    }\n",
       "\n",
       "    .dataframe thead th {\n",
       "        text-align: right;\n",
       "    }\n",
       "</style>\n",
       "<table border=\"1\" class=\"dataframe\">\n",
       "  <thead>\n",
       "    <tr style=\"text-align: right;\">\n",
       "      <th></th>\n",
       "      <th>id</th>\n",
       "      <th>month</th>\n",
       "      <th>project</th>\n",
       "      <th>investor</th>\n",
       "      <th>square</th>\n",
       "      <th>bedrooms</th>\n",
       "      <th>bathrooms</th>\n",
       "      <th>direction</th>\n",
       "      <th>balcony</th>\n",
       "      <th>district</th>\n",
       "      <th>ward</th>\n",
       "      <th>price</th>\n",
       "    </tr>\n",
       "  </thead>\n",
       "  <tbody>\n",
       "    <tr>\n",
       "      <th>0</th>\n",
       "      <td>28086120</td>\n",
       "      <td>12</td>\n",
       "      <td>Vinhomes Smart City Đại Mỗ</td>\n",
       "      <td>Tập đoàn Vingroup</td>\n",
       "      <td>60.0</td>\n",
       "      <td>3.0</td>\n",
       "      <td>1.0</td>\n",
       "      <td>Đông-Nam</td>\n",
       "      <td>Tây-Bắc</td>\n",
       "      <td>nam tu liem</td>\n",
       "      <td>dai mo</td>\n",
       "      <td>1560.0</td>\n",
       "    </tr>\n",
       "    <tr>\n",
       "      <th>1</th>\n",
       "      <td>28088954</td>\n",
       "      <td>12</td>\n",
       "      <td>Goldmark City</td>\n",
       "      <td>Công ty TNHH Thương mại - Quảng cáo - Xây dựng...</td>\n",
       "      <td>121.0</td>\n",
       "      <td>3.0</td>\n",
       "      <td>2.0</td>\n",
       "      <td>NaN</td>\n",
       "      <td>NaN</td>\n",
       "      <td>bac tu liem</td>\n",
       "      <td>phu dien</td>\n",
       "      <td>3300.0</td>\n",
       "    </tr>\n",
       "    <tr>\n",
       "      <th>2</th>\n",
       "      <td>28097966</td>\n",
       "      <td>12</td>\n",
       "      <td>Chung cư IEC Tứ Hiệp</td>\n",
       "      <td>NaN</td>\n",
       "      <td>70.0</td>\n",
       "      <td>2.0</td>\n",
       "      <td>2.0</td>\n",
       "      <td>Tây-Bắc</td>\n",
       "      <td>Đông-Nam</td>\n",
       "      <td>thanh tri</td>\n",
       "      <td>tu hiep</td>\n",
       "      <td>1106.0</td>\n",
       "    </tr>\n",
       "    <tr>\n",
       "      <th>3</th>\n",
       "      <td>27895887</td>\n",
       "      <td>12</td>\n",
       "      <td>Vinhomes D'Capitale</td>\n",
       "      <td>Tân Hoàng Minh Group</td>\n",
       "      <td>39.0</td>\n",
       "      <td>1.0</td>\n",
       "      <td>1.0</td>\n",
       "      <td>Đông-Nam</td>\n",
       "      <td>Đông-Nam</td>\n",
       "      <td>cau giay</td>\n",
       "      <td>trung hoa</td>\n",
       "      <td>1500.0</td>\n",
       "    </tr>\n",
       "    <tr>\n",
       "      <th>4</th>\n",
       "      <td>28056031</td>\n",
       "      <td>12</td>\n",
       "      <td>The Zen Residence</td>\n",
       "      <td>Công ty TNHH Gamuda Land Việt Nam</td>\n",
       "      <td>97.0</td>\n",
       "      <td>3.0</td>\n",
       "      <td>2.0</td>\n",
       "      <td>NaN</td>\n",
       "      <td>NaN</td>\n",
       "      <td>hoang mai</td>\n",
       "      <td>hoang liet</td>\n",
       "      <td>2900.0</td>\n",
       "    </tr>\n",
       "  </tbody>\n",
       "</table>\n",
       "</div>"
      ],
      "text/plain": [
       "         id month                     project  \\\n",
       "0  28086120    12  Vinhomes Smart City Đại Mỗ   \n",
       "1  28088954    12               Goldmark City   \n",
       "2  28097966    12        Chung cư IEC Tứ Hiệp   \n",
       "3  27895887    12         Vinhomes D'Capitale   \n",
       "4  28056031    12           The Zen Residence   \n",
       "\n",
       "                                            investor  square  bedrooms  \\\n",
       "0                                  Tập đoàn Vingroup    60.0       3.0   \n",
       "1  Công ty TNHH Thương mại - Quảng cáo - Xây dựng...   121.0       3.0   \n",
       "2                                                NaN    70.0       2.0   \n",
       "3                               Tân Hoàng Minh Group    39.0       1.0   \n",
       "4                  Công ty TNHH Gamuda Land Việt Nam    97.0       3.0   \n",
       "\n",
       "   bathrooms direction   balcony     district        ward   price  \n",
       "0        1.0  Đông-Nam   Tây-Bắc  nam tu liem      dai mo  1560.0  \n",
       "1        2.0       NaN       NaN  bac tu liem    phu dien  3300.0  \n",
       "2        2.0   Tây-Bắc  Đông-Nam    thanh tri     tu hiep  1106.0  \n",
       "3        1.0  Đông-Nam  Đông-Nam     cau giay   trung hoa  1500.0  \n",
       "4        2.0       NaN       NaN    hoang mai  hoang liet  2900.0  "
      ]
     },
     "execution_count": 4,
     "metadata": {},
     "output_type": "execute_result"
    }
   ],
   "source": [
    "data.head()"
   ]
  },
  {
   "cell_type": "code",
   "execution_count": 6,
   "id": "1616694a-f278-4375-b96e-c841c3bcc026",
   "metadata": {},
   "outputs": [
    {
     "data": {
      "text/html": [
       "<div>\n",
       "<style scoped>\n",
       "    .dataframe tbody tr th:only-of-type {\n",
       "        vertical-align: middle;\n",
       "    }\n",
       "\n",
       "    .dataframe tbody tr th {\n",
       "        vertical-align: top;\n",
       "    }\n",
       "\n",
       "    .dataframe thead th {\n",
       "        text-align: right;\n",
       "    }\n",
       "</style>\n",
       "<table border=\"1\" class=\"dataframe\">\n",
       "  <thead>\n",
       "    <tr style=\"text-align: right;\">\n",
       "      <th></th>\n",
       "      <th>square</th>\n",
       "      <th>bedrooms</th>\n",
       "      <th>bathrooms</th>\n",
       "      <th>price</th>\n",
       "    </tr>\n",
       "  </thead>\n",
       "  <tbody>\n",
       "    <tr>\n",
       "      <th>count</th>\n",
       "      <td>81162.000000</td>\n",
       "      <td>81162.000000</td>\n",
       "      <td>81162.000000</td>\n",
       "      <td>81162.000000</td>\n",
       "    </tr>\n",
       "    <tr>\n",
       "      <th>mean</th>\n",
       "      <td>83.481974</td>\n",
       "      <td>2.365602</td>\n",
       "      <td>1.897785</td>\n",
       "      <td>2404.748090</td>\n",
       "    </tr>\n",
       "    <tr>\n",
       "      <th>std</th>\n",
       "      <td>25.662160</td>\n",
       "      <td>0.622283</td>\n",
       "      <td>0.404293</td>\n",
       "      <td>1038.825418</td>\n",
       "    </tr>\n",
       "    <tr>\n",
       "      <th>min</th>\n",
       "      <td>7.000000</td>\n",
       "      <td>1.000000</td>\n",
       "      <td>1.000000</td>\n",
       "      <td>350.000000</td>\n",
       "    </tr>\n",
       "    <tr>\n",
       "      <th>25%</th>\n",
       "      <td>66.000000</td>\n",
       "      <td>2.000000</td>\n",
       "      <td>2.000000</td>\n",
       "      <td>1520.000000</td>\n",
       "    </tr>\n",
       "    <tr>\n",
       "      <th>50%</th>\n",
       "      <td>79.000000</td>\n",
       "      <td>2.000000</td>\n",
       "      <td>2.000000</td>\n",
       "      <td>2300.000000</td>\n",
       "    </tr>\n",
       "    <tr>\n",
       "      <th>75%</th>\n",
       "      <td>98.000000</td>\n",
       "      <td>3.000000</td>\n",
       "      <td>2.000000</td>\n",
       "      <td>3150.000000</td>\n",
       "    </tr>\n",
       "    <tr>\n",
       "      <th>max</th>\n",
       "      <td>296.000000</td>\n",
       "      <td>4.000000</td>\n",
       "      <td>4.000000</td>\n",
       "      <td>5000.000000</td>\n",
       "    </tr>\n",
       "  </tbody>\n",
       "</table>\n",
       "</div>"
      ],
      "text/plain": [
       "             square      bedrooms     bathrooms         price\n",
       "count  81162.000000  81162.000000  81162.000000  81162.000000\n",
       "mean      83.481974      2.365602      1.897785   2404.748090\n",
       "std       25.662160      0.622283      0.404293   1038.825418\n",
       "min        7.000000      1.000000      1.000000    350.000000\n",
       "25%       66.000000      2.000000      2.000000   1520.000000\n",
       "50%       79.000000      2.000000      2.000000   2300.000000\n",
       "75%       98.000000      3.000000      2.000000   3150.000000\n",
       "max      296.000000      4.000000      4.000000   5000.000000"
      ]
     },
     "execution_count": 6,
     "metadata": {},
     "output_type": "execute_result"
    }
   ],
   "source": [
    "data.describe()"
   ]
  },
  {
   "cell_type": "code",
   "execution_count": 9,
   "id": "b0ed7c57-222b-485d-bf38-3795b5602dd0",
   "metadata": {},
   "outputs": [
    {
     "name": "stdout",
     "output_type": "stream",
     "text": [
      "<class 'pandas.core.frame.DataFrame'>\n",
      "RangeIndex: 81163 entries, 0 to 81162\n",
      "Data columns (total 12 columns):\n",
      " #   Column     Non-Null Count  Dtype  \n",
      "---  ------     --------------  -----  \n",
      " 0   id         81163 non-null  string \n",
      " 1   month      81162 non-null  string \n",
      " 2   project    78097 non-null  object \n",
      " 3   investor   65453 non-null  object \n",
      " 4   square     81162 non-null  float64\n",
      " 5   bedrooms   81162 non-null  float64\n",
      " 6   bathrooms  81162 non-null  float64\n",
      " 7   direction  51086 non-null  object \n",
      " 8   balcony    54426 non-null  object \n",
      " 9   district   81162 non-null  object \n",
      " 10  ward       79506 non-null  object \n",
      " 11  price      81162 non-null  float64\n",
      "dtypes: float64(4), object(6), string(2)\n",
      "memory usage: 7.4+ MB\n"
     ]
    }
   ],
   "source": [
    "data.info()"
   ]
  },
  {
   "cell_type": "code",
   "execution_count": 11,
   "id": "07234ca5-e8b4-4e62-975c-00ba7a39634c",
   "metadata": {},
   "outputs": [
    {
     "name": "stderr",
     "output_type": "stream",
     "text": [
      "C:\\Users\\lequa\\miniconda3\\envs\\FMLAb\\Lib\\site-packages\\seaborn\\categorical.py:700: PendingDeprecationWarning: vert: bool will be deprecated in a future version. Use orientation: {'vertical', 'horizontal'} instead.\n",
      "  artists = ax.bxp(**boxplot_kws)\n"
     ]
    },
    {
     "data": {
      "text/plain": [
       "<Axes: >"
      ]
     },
     "execution_count": 11,
     "metadata": {},
     "output_type": "execute_result"
    },
    {
     "data": {
      "image/png": "[encoded data removed]",
      "text/plain": [
       "<Figure size 640x480 with 1 Axes>"
      ]
     },
     "metadata": {},
     "output_type": "display_data"
    }
   ],
   "source": [
    "sns.boxplot(\"price\")"
   ]
  },
  {
   "cell_type": "code",
   "execution_count": null,
   "id": "0c807149-f0af-4d03-a063-9299db43a8cb",
   "metadata": {},
   "outputs": [],
   "source": []
  }
 ],
 "metadata": {
  "kernelspec": {
   "display_name": "Python 3 (ipykernel)",
   "language": "python",
   "name": "python3"
  },
  "language_info": {
   "codemirror_mode": {
    "name": "ipython",
    "version": 3
   },
   "file_extension": ".py",
   "mimetype": "text/x-python",
   "name": "python",
   "nbconvert_exporter": "python",
   "pygments_lexer": "ipython3",
   "version": "3.13.5"
  }
 },
 "nbformat": 4,
 "nbformat_minor": 5
}
